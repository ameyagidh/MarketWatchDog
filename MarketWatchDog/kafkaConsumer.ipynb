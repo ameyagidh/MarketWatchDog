{
 "cells": [
  {
   "cell_type": "code",
   "execution_count": 1,
   "id": "cbc01737",
   "metadata": {},
   "outputs": [],
   "source": [
    "from kafka import KafkaConsumer\n",
    "from time import sleep\n",
    "from json import dumps,loads\n",
    "import json\n",
    "from s3fs import S3FileSystem"
   ]
  },
  {
   "cell_type": "code",
   "execution_count": 2,
   "id": "959a7e34",
   "metadata": {},
   "outputs": [],
   "source": [
    "consumer = KafkaConsumer(\n",
    "    'demo_test1',\n",
    "     bootstrap_servers=['3.145.20.135:9092'], #add your IP here\n",
    "    value_deserializer=lambda x: loads(x.decode('utf-8')))"
   ]
  },
  {
   "cell_type": "code",
   "execution_count": 3,
   "id": "9ca72e7e",
   "metadata": {},
   "outputs": [
    {
     "name": "stdout",
     "output_type": "stream",
     "text": [
      "{'ameya': 'gidh'}\n",
      "{'Index': 'N225', 'Date': '1975-02-04', 'Open': 4003.75, 'High': 4003.75, 'Low': 4003.75, 'Close': 4003.75, 'Adj Close': 4003.75, 'Volume': 0.0, 'CloseUSD': 40.0375}\n",
      "{'Index': 'N225', 'Date': '1971-06-29', 'Open': 2625.139893, 'High': 2625.139893, 'Low': 2625.139893, 'Close': 2625.139893, 'Adj Close': 2625.139893, 'Volume': 0.0, 'CloseUSD': 26.25139893}\n",
      "{'Index': 'TWII', 'Date': '2010-01-13', 'Open': 8229.25, 'High': 8257.830078, 'Low': 8194.80957, 'Close': 8196.55957, 'Adj Close': 8196.527344, 'Volume': 4925600.0, 'CloseUSD': 327.8623828}\n",
      "{'Index': 'N225', 'Date': '1987-11-17', 'Open': 22344.2793, 'High': 22344.2793, 'Low': 22344.2793, 'Close': 22344.2793, 'Adj Close': 22344.2793, 'Volume': 0.0, 'CloseUSD': 223.442793}\n",
      "{'Index': 'IXIC', 'Date': '1977-04-26', 'Open': 94.120003, 'High': 94.120003, 'Low': 94.120003, 'Close': 94.120003, 'Adj Close': 94.120003, 'Volume': 0.0, 'CloseUSD': 94.120003}\n",
      "{'Index': 'GDAXI', 'Date': '2012-09-19', 'Open': 7387.180176, 'High': 7396.120117, 'Low': 7326.240234, 'Close': 7390.759766, 'Adj Close': 7390.759766, 'Volume': 147347400.0, 'CloseUSD': 9016.72691452}\n",
      "{'Index': 'NYA', 'Date': '1974-07-02', 'Open': 464.399994, 'High': 464.399994, 'Low': 464.399994, 'Close': 464.399994, 'Adj Close': 464.399994, 'Volume': 0.0, 'CloseUSD': 464.399994}\n",
      "{'Index': 'N100', 'Date': '2002-01-29', 'Open': 793.200012, 'High': 794.640015, 'Low': 782.01001, 'Close': 782.01001, 'Adj Close': 782.01001, 'Volume': 0.0, 'CloseUSD': 954.0522122}\n",
      "{'Index': 'TWII', 'Date': '2013-05-20', 'Open': 8364.950195, 'High': 8385.679688, 'Low': 8347.330078, 'Close': 8377.049805, 'Adj Close': 8377.017578, 'Volume': 2114400.0, 'CloseUSD': 335.0819922}\n",
      "{'Index': '399001.SZ', 'Date': '2000-03-15', 'Open': 4365.549805, 'High': 4415.470215, 'Low': 4326.890137, 'Close': 4333.890137, 'Adj Close': 4333.841309, 'Volume': 0.0, 'CloseUSD': 693.42242192}\n",
      "{'Index': 'GSPTSE', 'Date': '2018-09-13', 'Open': 16059.2002, 'High': 16071.2002, 'Low': 15987.2002, 'Close': 16001.7002, 'Adj Close': 16001.7002, 'Volume': 22171190000.0, 'CloseUSD': 13281.411165999998}\n",
      "{'Index': 'GSPTSE', 'Date': '2019-03-12', 'Open': 16142.59961, 'High': 16149.0, 'Low': 16099.59961, 'Close': 16136.7002, 'Adj Close': 16136.7002, 'Volume': 22911150000.0, 'CloseUSD': 13393.461166}\n",
      "{'Index': 'N100', 'Date': '2014-10-31', 'Open': 813.140015, 'High': 821.320007, 'Low': 808.960022, 'Close': 819.47998, 'Adj Close': 819.47998, 'Volume': 343769400.0, 'CloseUSD': 999.7655756}\n",
      "{'Index': 'IXIC', 'Date': '2012-08-03', 'Open': 2951.280029, 'High': 2977.409912, 'Low': 2945.810059, 'Close': 2967.899902, 'Adj Close': 2967.899902, 'Volume': 1730210000.0, 'CloseUSD': 2967.899902}\n",
      "{'Index': 'SSMI', 'Date': '1997-10-06', 'Open': 5928.0, 'High': 5939.100098, 'Low': 5866.0, 'Close': 5897.399902, 'Adj Close': 5897.399902, 'Volume': 0.0, 'CloseUSD': 6546.11389122}\n",
      "{'Index': 'N225', 'Date': '1990-09-10', 'Open': 23997.23047, 'High': 25080.90039, 'Low': 23997.23047, 'Close': 25080.90039, 'Adj Close': 25080.90039, 'Volume': 0.0, 'CloseUSD': 250.8090039}\n",
      "{'Index': 'J203.JO', 'Date': '2017-12-22', 'Open': 58771.78906, 'High': 58981.96094, 'Low': 58476.03906, 'Close': 58800.23047, 'Adj Close': 58800.23047, 'Volume': 0.0, 'CloseUSD': 4116.0161329}\n",
      "{'Index': '399001.SZ', 'Date': '2016-04-20', 'Open': 10632.07031, 'High': 10647.08984, 'Low': 10011.57031, 'Close': 10164.74023, 'Adj Close': 10164.62598, 'Volume': 1476300.0, 'CloseUSD': 1626.3584368}\n",
      "{'Index': 'SSMI', 'Date': '1992-11-30', 'Open': 1914.300049, 'High': 1939.599976, 'Low': 1914.0, 'Close': 1931.199951, 'Adj Close': 1931.199951, 'Volume': 0.0, 'CloseUSD': 2143.6319456100005}\n",
      "{'Index': '000001.SS', 'Date': '2012-02-10', 'Open': 2342.010986, 'High': 2368.979004, 'Low': 2339.88501, 'Close': 2351.980957, 'Adj Close': 2351.980957, 'Volume': 96600.0, 'CloseUSD': 376.3169531200001}\n",
      "{'Index': 'GDAXI', 'Date': '1994-08-23', 'Open': 2112.550049, 'High': 2121.25, 'Low': 2094.120117, 'Close': 2121.25, 'Adj Close': 2121.25, 'Volume': 0.0, 'CloseUSD': 2587.9249999999997}\n",
      "{'Index': 'N225', 'Date': '1978-03-23', 'Open': 5266.779785, 'High': 5266.779785, 'Low': 5266.779785, 'Close': 5266.779785, 'Adj Close': 5266.779785, 'Volume': 0.0, 'CloseUSD': 52.66779785}\n",
      "{'Index': 'N100', 'Date': '2011-07-05', 'Open': 708.619995, 'High': 710.48999, 'Low': 706.309998, 'Close': 707.090027, 'Adj Close': 707.090027, 'Volume': 308428600.0, 'CloseUSD': 862.6498329399999}\n",
      "{'Index': 'NYA', 'Date': '2009-03-02', 'Open': 4617.029785, 'High': 4617.029785, 'Low': 4351.47998, 'Close': 4360.97998, 'Adj Close': 4360.97998, 'Volume': 7868290000.0, 'CloseUSD': 4360.97998}\n",
      "{'Index': 'IXIC', 'Date': '1990-03-22', 'Open': 439.200012, 'High': 439.299988, 'Low': 433.200012, 'Close': 434.5, 'Adj Close': 434.5, 'Volume': 146220000.0, 'CloseUSD': 434.5}\n",
      "{'Index': '399001.SZ', 'Date': '2005-09-22', 'Open': 2961.969971, 'High': 2961.969971, 'Low': 2881.580078, 'Close': 2905.679932, 'Adj Close': 2905.647217, 'Volume': 24800.0, 'CloseUSD': 464.90878912}\n",
      "{'Index': 'SSMI', 'Date': '2002-04-02', 'Open': 6651.600098, 'High': 6673.700195, 'Low': 6640.299805, 'Close': 6671.5, 'Adj Close': 6671.5, 'Volume': 0.0, 'CloseUSD': 7405.365000000001}\n",
      "{'Index': 'SSMI', 'Date': '2020-01-20', 'Open': 10844.11035, 'High': 10867.16016, 'Low': 10835.30957, 'Close': 10846.29004, 'Adj Close': 10846.29004, 'Volume': 44762500.0, 'CloseUSD': 12039.3819444}\n",
      "{'Index': 'SSMI', 'Date': '2008-04-17', 'Open': 7260.600098, 'High': 7262.5, 'Low': 7133.399902, 'Close': 7173.600098, 'Adj Close': 7173.600098, 'Volume': 65986000.0, 'CloseUSD': 7962.696108780001}\n",
      "{'Index': 'IXIC', 'Date': '1976-03-09', 'Open': 89.980003, 'High': 89.980003, 'Low': 89.980003, 'Close': 89.980003, 'Adj Close': 89.980003, 'Volume': 0.0, 'CloseUSD': 89.980003}\n",
      "{'Index': 'N225', 'Date': '1992-11-20', 'Open': 16810.5293, 'High': 17188.36914, 'Low': 16679.64063, 'Close': 17033.59961, 'Adj Close': 17033.59961, 'Volume': 0.0, 'CloseUSD': 170.33599610000002}\n",
      "{'Index': 'TWII', 'Date': '2001-02-01', 'Open': 5927.25, 'High': 5975.049805, 'Low': 5850.990234, 'Close': 5897.930176, 'Adj Close': 5897.908203, 'Volume': 0.0, 'CloseUSD': 235.91720704}\n",
      "{'Index': 'IXIC', 'Date': '1996-01-22', 'Open': 1019.719971, 'High': 1029.469971, 'Low': 1019.140015, 'Close': 1029.439941, 'Adj Close': 1029.439941, 'Volume': 484430000.0, 'CloseUSD': 1029.439941}\n",
      "{'Index': 'N100', 'Date': '2003-02-20', 'Open': 499.019989, 'High': 503.959991, 'Low': 490.100006, 'Close': 491.529999, 'Adj Close': 491.529999, 'Volume': 0.0, 'CloseUSD': 599.66659878}\n",
      "{'Index': 'GDAXI', 'Date': '1988-02-19', 'Open': 1046.780029, 'High': 1046.780029, 'Low': 1046.780029, 'Close': 1046.780029, 'Adj Close': 1046.780029, 'Volume': 0.0, 'CloseUSD': 1277.07163538}\n",
      "{'Index': 'IXIC', 'Date': '2018-06-26', 'Open': 7553.740234, 'High': 7597.490234, 'Low': 7527.0, 'Close': 7561.629883, 'Adj Close': 7561.629883, 'Volume': 2058640000.0, 'CloseUSD': 7561.629883}\n",
      "{'Index': 'NSEI', 'Date': '2014-09-03', 'Open': 8110.850098, 'High': 8141.899902, 'Low': 8092.25, 'Close': 8114.600098, 'Adj Close': 8114.600098, 'Volume': 150700.0, 'CloseUSD': 81.14600098}\n",
      "{'Index': 'N225', 'Date': '1996-06-14', 'Open': 22127.31055, 'High': 22480.91016, 'Low': 22127.31055, 'Close': 22289.39063, 'Adj Close': 22289.39063, 'Volume': 0.0, 'CloseUSD': 222.89390630000003}\n",
      "{'Index': 'TWII', 'Date': '2013-03-21', 'Open': 7828.950195, 'High': 7843.160156, 'Low': 7811.839844, 'Close': 7811.839844, 'Adj Close': 7811.811035, 'Volume': 1695800.0, 'CloseUSD': 312.47359376}\n",
      "{'Index': '000001.SS', 'Date': '2008-03-17', 'Open': 3941.258057, 'High': 3941.258057, 'Low': 3812.999023, 'Close': 3820.048096, 'Adj Close': 3820.048096, 'Volume': 49200.0, 'CloseUSD': 611.20769536}\n",
      "{'Index': 'NYA', 'Date': '1966-11-04', 'Open': 460.269989, 'High': 460.269989, 'Low': 460.269989, 'Close': 460.269989, 'Adj Close': 460.269989, 'Volume': 0.0, 'CloseUSD': 460.269989}\n",
      "{'Index': 'GSPTSE', 'Date': '2019-02-21', 'Open': 16001.90039, 'High': 16030.7002, 'Low': 15979.7002, 'Close': 16000.90039, 'Adj Close': 16000.90039, 'Volume': 29852970000.0, 'CloseUSD': 13280.7473237}\n"
     ]
    },
    {
     "ename": "KeyboardInterrupt",
     "evalue": "",
     "output_type": "error",
     "traceback": [
      "\u001b[0;31m---------------------------------------------------------------------------\u001b[0m",
      "\u001b[0;31mKeyboardInterrupt\u001b[0m                         Traceback (most recent call last)",
      "Cell \u001b[0;32mIn[3], line 1\u001b[0m\n\u001b[0;32m----> 1\u001b[0m \u001b[38;5;28;01mfor\u001b[39;00m val \u001b[38;5;129;01min\u001b[39;00m consumer:\n\u001b[1;32m      2\u001b[0m     \u001b[38;5;28mprint\u001b[39m(val\u001b[38;5;241m.\u001b[39mvalue)\n",
      "File \u001b[0;32m/opt/homebrew/anaconda3/envs/ameya/lib/python3.11/site-packages/kafka/consumer/group.py:1193\u001b[0m, in \u001b[0;36mKafkaConsumer.__next__\u001b[0;34m(self)\u001b[0m\n\u001b[1;32m   1191\u001b[0m     \u001b[38;5;28;01mreturn\u001b[39;00m \u001b[38;5;28mself\u001b[39m\u001b[38;5;241m.\u001b[39mnext_v1()\n\u001b[1;32m   1192\u001b[0m \u001b[38;5;28;01melse\u001b[39;00m:\n\u001b[0;32m-> 1193\u001b[0m     \u001b[38;5;28;01mreturn\u001b[39;00m \u001b[38;5;28mself\u001b[39m\u001b[38;5;241m.\u001b[39mnext_v2()\n",
      "File \u001b[0;32m/opt/homebrew/anaconda3/envs/ameya/lib/python3.11/site-packages/kafka/consumer/group.py:1201\u001b[0m, in \u001b[0;36mKafkaConsumer.next_v2\u001b[0;34m(self)\u001b[0m\n\u001b[1;32m   1199\u001b[0m     \u001b[38;5;28mself\u001b[39m\u001b[38;5;241m.\u001b[39m_iterator \u001b[38;5;241m=\u001b[39m \u001b[38;5;28mself\u001b[39m\u001b[38;5;241m.\u001b[39m_message_generator_v2()\n\u001b[1;32m   1200\u001b[0m \u001b[38;5;28;01mtry\u001b[39;00m:\n\u001b[0;32m-> 1201\u001b[0m     \u001b[38;5;28;01mreturn\u001b[39;00m \u001b[38;5;28mnext\u001b[39m(\u001b[38;5;28mself\u001b[39m\u001b[38;5;241m.\u001b[39m_iterator)\n\u001b[1;32m   1202\u001b[0m \u001b[38;5;28;01mexcept\u001b[39;00m \u001b[38;5;167;01mStopIteration\u001b[39;00m:\n\u001b[1;32m   1203\u001b[0m     \u001b[38;5;28mself\u001b[39m\u001b[38;5;241m.\u001b[39m_iterator \u001b[38;5;241m=\u001b[39m \u001b[38;5;28;01mNone\u001b[39;00m\n",
      "File \u001b[0;32m/opt/homebrew/anaconda3/envs/ameya/lib/python3.11/site-packages/kafka/consumer/group.py:1116\u001b[0m, in \u001b[0;36mKafkaConsumer._message_generator_v2\u001b[0;34m(self)\u001b[0m\n\u001b[1;32m   1114\u001b[0m \u001b[38;5;28;01mdef\u001b[39;00m \u001b[38;5;21m_message_generator_v2\u001b[39m(\u001b[38;5;28mself\u001b[39m):\n\u001b[1;32m   1115\u001b[0m     timeout_ms \u001b[38;5;241m=\u001b[39m \u001b[38;5;241m1000\u001b[39m \u001b[38;5;241m*\u001b[39m (\u001b[38;5;28mself\u001b[39m\u001b[38;5;241m.\u001b[39m_consumer_timeout \u001b[38;5;241m-\u001b[39m time\u001b[38;5;241m.\u001b[39mtime())\n\u001b[0;32m-> 1116\u001b[0m     record_map \u001b[38;5;241m=\u001b[39m \u001b[38;5;28mself\u001b[39m\u001b[38;5;241m.\u001b[39mpoll(timeout_ms\u001b[38;5;241m=\u001b[39mtimeout_ms, update_offsets\u001b[38;5;241m=\u001b[39m\u001b[38;5;28;01mFalse\u001b[39;00m)\n\u001b[1;32m   1117\u001b[0m     \u001b[38;5;28;01mfor\u001b[39;00m tp, records \u001b[38;5;129;01min\u001b[39;00m six\u001b[38;5;241m.\u001b[39miteritems(record_map):\n\u001b[1;32m   1118\u001b[0m         \u001b[38;5;66;03m# Generators are stateful, and it is possible that the tp / records\u001b[39;00m\n\u001b[1;32m   1119\u001b[0m         \u001b[38;5;66;03m# here may become stale during iteration -- i.e., we seek to a\u001b[39;00m\n\u001b[1;32m   1120\u001b[0m         \u001b[38;5;66;03m# different offset, pause consumption, or lose assignment.\u001b[39;00m\n\u001b[1;32m   1121\u001b[0m         \u001b[38;5;28;01mfor\u001b[39;00m record \u001b[38;5;129;01min\u001b[39;00m records:\n\u001b[1;32m   1122\u001b[0m             \u001b[38;5;66;03m# is_fetchable(tp) should handle assignment changes and offset\u001b[39;00m\n\u001b[1;32m   1123\u001b[0m             \u001b[38;5;66;03m# resets; for all other changes (e.g., seeks) we'll rely on the\u001b[39;00m\n\u001b[1;32m   1124\u001b[0m             \u001b[38;5;66;03m# outer function destroying the existing iterator/generator\u001b[39;00m\n\u001b[1;32m   1125\u001b[0m             \u001b[38;5;66;03m# via self._iterator = None\u001b[39;00m\n",
      "File \u001b[0;32m/opt/homebrew/anaconda3/envs/ameya/lib/python3.11/site-packages/kafka/consumer/group.py:655\u001b[0m, in \u001b[0;36mKafkaConsumer.poll\u001b[0;34m(self, timeout_ms, max_records, update_offsets)\u001b[0m\n\u001b[1;32m    653\u001b[0m remaining \u001b[38;5;241m=\u001b[39m timeout_ms\n\u001b[1;32m    654\u001b[0m \u001b[38;5;28;01mwhile\u001b[39;00m \u001b[38;5;28;01mTrue\u001b[39;00m:\n\u001b[0;32m--> 655\u001b[0m     records \u001b[38;5;241m=\u001b[39m \u001b[38;5;28mself\u001b[39m\u001b[38;5;241m.\u001b[39m_poll_once(remaining, max_records, update_offsets\u001b[38;5;241m=\u001b[39mupdate_offsets)\n\u001b[1;32m    656\u001b[0m     \u001b[38;5;28;01mif\u001b[39;00m records:\n\u001b[1;32m    657\u001b[0m         \u001b[38;5;28;01mreturn\u001b[39;00m records\n",
      "File \u001b[0;32m/opt/homebrew/anaconda3/envs/ameya/lib/python3.11/site-packages/kafka/consumer/group.py:702\u001b[0m, in \u001b[0;36mKafkaConsumer._poll_once\u001b[0;34m(self, timeout_ms, max_records, update_offsets)\u001b[0m\n\u001b[1;32m    699\u001b[0m     \u001b[38;5;28mself\u001b[39m\u001b[38;5;241m.\u001b[39m_client\u001b[38;5;241m.\u001b[39mpoll(timeout_ms\u001b[38;5;241m=\u001b[39m\u001b[38;5;241m0\u001b[39m)\n\u001b[1;32m    701\u001b[0m timeout_ms \u001b[38;5;241m=\u001b[39m \u001b[38;5;28mmin\u001b[39m(timeout_ms, \u001b[38;5;28mself\u001b[39m\u001b[38;5;241m.\u001b[39m_coordinator\u001b[38;5;241m.\u001b[39mtime_to_next_poll() \u001b[38;5;241m*\u001b[39m \u001b[38;5;241m1000\u001b[39m)\n\u001b[0;32m--> 702\u001b[0m \u001b[38;5;28mself\u001b[39m\u001b[38;5;241m.\u001b[39m_client\u001b[38;5;241m.\u001b[39mpoll(timeout_ms\u001b[38;5;241m=\u001b[39mtimeout_ms)\n\u001b[1;32m    703\u001b[0m \u001b[38;5;66;03m# after the long poll, we should check whether the group needs to rebalance\u001b[39;00m\n\u001b[1;32m    704\u001b[0m \u001b[38;5;66;03m# prior to returning data so that the group can stabilize faster\u001b[39;00m\n\u001b[1;32m    705\u001b[0m \u001b[38;5;28;01mif\u001b[39;00m \u001b[38;5;28mself\u001b[39m\u001b[38;5;241m.\u001b[39m_coordinator\u001b[38;5;241m.\u001b[39mneed_rejoin():\n",
      "File \u001b[0;32m/opt/homebrew/anaconda3/envs/ameya/lib/python3.11/site-packages/kafka/client_async.py:602\u001b[0m, in \u001b[0;36mKafkaClient.poll\u001b[0;34m(self, timeout_ms, future)\u001b[0m\n\u001b[1;32m    599\u001b[0m             timeout \u001b[38;5;241m=\u001b[39m \u001b[38;5;28mmin\u001b[39m(timeout, \u001b[38;5;28mself\u001b[39m\u001b[38;5;241m.\u001b[39mconfig[\u001b[38;5;124m'\u001b[39m\u001b[38;5;124mretry_backoff_ms\u001b[39m\u001b[38;5;124m'\u001b[39m])\n\u001b[1;32m    600\u001b[0m         timeout \u001b[38;5;241m=\u001b[39m \u001b[38;5;28mmax\u001b[39m(\u001b[38;5;241m0\u001b[39m, timeout)  \u001b[38;5;66;03m# avoid negative timeouts\u001b[39;00m\n\u001b[0;32m--> 602\u001b[0m     \u001b[38;5;28mself\u001b[39m\u001b[38;5;241m.\u001b[39m_poll(timeout \u001b[38;5;241m/\u001b[39m \u001b[38;5;241m1000\u001b[39m)\n\u001b[1;32m    604\u001b[0m \u001b[38;5;66;03m# called without the lock to avoid deadlock potential\u001b[39;00m\n\u001b[1;32m    605\u001b[0m \u001b[38;5;66;03m# if handlers need to acquire locks\u001b[39;00m\n\u001b[1;32m    606\u001b[0m responses\u001b[38;5;241m.\u001b[39mextend(\u001b[38;5;28mself\u001b[39m\u001b[38;5;241m.\u001b[39m_fire_pending_completed_requests())\n",
      "File \u001b[0;32m/opt/homebrew/anaconda3/envs/ameya/lib/python3.11/site-packages/kafka/client_async.py:634\u001b[0m, in \u001b[0;36mKafkaClient._poll\u001b[0;34m(self, timeout)\u001b[0m\n\u001b[1;32m    631\u001b[0m \u001b[38;5;28mself\u001b[39m\u001b[38;5;241m.\u001b[39m_register_send_sockets()\n\u001b[1;32m    633\u001b[0m start_select \u001b[38;5;241m=\u001b[39m time\u001b[38;5;241m.\u001b[39mtime()\n\u001b[0;32m--> 634\u001b[0m ready \u001b[38;5;241m=\u001b[39m \u001b[38;5;28mself\u001b[39m\u001b[38;5;241m.\u001b[39m_selector\u001b[38;5;241m.\u001b[39mselect(timeout)\n\u001b[1;32m    635\u001b[0m end_select \u001b[38;5;241m=\u001b[39m time\u001b[38;5;241m.\u001b[39mtime()\n\u001b[1;32m    636\u001b[0m \u001b[38;5;28;01mif\u001b[39;00m \u001b[38;5;28mself\u001b[39m\u001b[38;5;241m.\u001b[39m_sensors:\n",
      "File \u001b[0;32m/opt/homebrew/anaconda3/envs/ameya/lib/python3.11/selectors.py:561\u001b[0m, in \u001b[0;36mKqueueSelector.select\u001b[0;34m(self, timeout)\u001b[0m\n\u001b[1;32m    559\u001b[0m ready \u001b[38;5;241m=\u001b[39m []\n\u001b[1;32m    560\u001b[0m \u001b[38;5;28;01mtry\u001b[39;00m:\n\u001b[0;32m--> 561\u001b[0m     kev_list \u001b[38;5;241m=\u001b[39m \u001b[38;5;28mself\u001b[39m\u001b[38;5;241m.\u001b[39m_selector\u001b[38;5;241m.\u001b[39mcontrol(\u001b[38;5;28;01mNone\u001b[39;00m, max_ev, timeout)\n\u001b[1;32m    562\u001b[0m \u001b[38;5;28;01mexcept\u001b[39;00m \u001b[38;5;167;01mInterruptedError\u001b[39;00m:\n\u001b[1;32m    563\u001b[0m     \u001b[38;5;28;01mreturn\u001b[39;00m ready\n",
      "\u001b[0;31mKeyboardInterrupt\u001b[0m: "
     ]
    }
   ],
   "source": [
    "for val in consumer:\n",
    "    print(val.value)"
   ]
  },
  {
   "cell_type": "code",
   "execution_count": null,
   "id": "1a4e9f23",
   "metadata": {},
   "outputs": [],
   "source": [
    "s3 = S3FileSystem()"
   ]
  },
  {
   "cell_type": "code",
   "execution_count": null,
   "id": "aa12dc9e",
   "metadata": {},
   "outputs": [],
   "source": [
    "# for count, i in enumerate(consumer):\n",
    "#     with s3.open(\"s3://kafka-stock-market-tutorial-youtube-darshil/stock_market_{}.json\".format(count), 'w') as file:\n",
    "#         json.dump(i.value, file) "
   ]
  },
  {
   "cell_type": "code",
   "execution_count": null,
   "id": "dae52d15",
   "metadata": {},
   "outputs": [],
   "source": []
  }
 ],
 "metadata": {
  "kernelspec": {
   "display_name": "Python 3 (ipykernel)",
   "language": "python",
   "name": "python3"
  },
  "language_info": {
   "codemirror_mode": {
    "name": "ipython",
    "version": 3
   },
   "file_extension": ".py",
   "mimetype": "text/x-python",
   "name": "python",
   "nbconvert_exporter": "python",
   "pygments_lexer": "ipython3",
   "version": "3.11.4"
  }
 },
 "nbformat": 4,
 "nbformat_minor": 5
}
